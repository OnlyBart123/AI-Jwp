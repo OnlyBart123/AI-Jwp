{
  "nbformat": 4,
  "nbformat_minor": 0,
  "metadata": {
    "colab": {
      "provenance": [],
      "authorship_tag": "ABX9TyMzXpIj7GqSLkKkDW8I7n0H",
      "include_colab_link": true
    },
    "kernelspec": {
      "name": "python3",
      "display_name": "Python 3"
    },
    "language_info": {
      "name": "python"
    }
  },
  "cells": [
    {
      "cell_type": "markdown",
      "metadata": {
        "id": "view-in-github",
        "colab_type": "text"
      },
      "source": [
        "<a href=\"https://colab.research.google.com/github/OnlyBart123/AI-Jwp/blob/main/Lab_AI3.ipynb\" target=\"_parent\"><img src=\"https://colab.research.google.com/assets/colab-badge.svg\" alt=\"Open In Colab\"/></a>"
      ]
    },
    {
      "cell_type": "code",
      "source": [
        "import numpy as np\n",
        "import tensorflow as tf\n",
        "import cv2\n",
        "import matplotlib.pyplot as plt\n",
        "import tensorflow_datasets as tfds"
      ],
      "metadata": {
        "id": "PtzE9vzX8FXL"
      },
      "execution_count": 160,
      "outputs": []
    },
    {
      "cell_type": "code",
      "execution_count": 161,
      "metadata": {
        "id": "9X8RdrT28BLp"
      },
      "outputs": [],
      "source": [
        "mnist_dataset, mnist_info =tfds.load(name='mnist', with_info=True, as_supervised=True)\n",
        "\n",
        "mnist_train, mnist_test=mnist_dataset['train'], mnist_dataset['test']\n",
        "\n",
        "num_validation_samples=0.1 * mnist_info.splits['train'].num_examples\n",
        "\n",
        "num_validation_samples=tf.cast(num_validation_samples, tf.int64)\n",
        "\n",
        "num_test_samples=mnist_info.splits['test'].num_examples\n",
        "\n",
        "num_test_samples=tf.cast(num_test_samples, tf.int64)"
      ]
    },
    {
      "cell_type": "code",
      "source": [
        "def scale(image, label):\n",
        "  image=tf.cast(image,tf.float32)\n",
        "  image/=255.\n",
        "  return image,label\n",
        "\n",
        "scaled_train_and_validation_data=mnist_train.map(scale)\n",
        "\n",
        "test_data=mnist_test.map(scale)"
      ],
      "metadata": {
        "id": "TmQzAZ5Y9XyW"
      },
      "execution_count": 162,
      "outputs": []
    },
    {
      "cell_type": "code",
      "source": [
        "BUFFER_SIZE=1000\n",
        "\n",
        "shuffled_train_and_validation_data = scaled_train_and_validation_data.shuffle(BUFFER_SIZE)\n",
        "\n",
        "validation_data=shuffled_train_and_validation_data.take(num_validation_samples)\n",
        "\n",
        "train_data=shuffled_train_and_validation_data.skip(num_validation_samples)"
      ],
      "metadata": {
        "id": "XQDj9fPP9p1n"
      },
      "execution_count": 163,
      "outputs": []
    },
    {
      "cell_type": "code",
      "source": [
        "BATCH_SIZE = 100\n",
        "train_data = train_data.batch(BATCH_SIZE)\n",
        "validation_data = validation_data.batch(num_validation_samples)\n",
        "test_data = test_data.batch(num_test_samples)\n",
        "\n",
        "validation_inputs, validation_targets = next(iter(validation_data))\n",
        "print(validation_inputs.shape,validation_targets.shape)"
      ],
      "metadata": {
        "colab": {
          "base_uri": "https://localhost:8080/"
        },
        "id": "YSLjpiE394Cm",
        "outputId": "f76bd850-d7d1-40f8-af88-9ce2fcd9762f"
      },
      "execution_count": 164,
      "outputs": [
        {
          "output_type": "stream",
          "name": "stdout",
          "text": [
            "(6000, 28, 28, 1) (6000,)\n"
          ]
        }
      ]
    },
    {
      "cell_type": "code",
      "source": [
        "input_size=784\n",
        "output_size=10\n",
        "hidden_layer_size=50\n",
        "\n",
        "model=tf.keras.Sequential([\n",
        "    tf.keras.layers.Flatten(input_shape=(28,28,1)),\n",
        "    tf.keras.layers.Dense(hidden_layer_size, activation='relu'),\n",
        "\n",
        "    tf.keras.layers.Dense(output_size, activation='softmax')\n",
        "])\n",
        "model.compile(optimizer='adam', loss='sparse_categorical_crossentropy', metrics=['accuracy'])"
      ],
      "metadata": {
        "id": "IdfFoTQ5-Kjv"
      },
      "execution_count": 165,
      "outputs": []
    },
    {
      "cell_type": "code",
      "source": [
        "NUM_EPOCHS=30\n",
        "early_stopping=tf.keras.callbacks.EarlyStopping(patience=2)\n",
        "model.fit(train_data,\n",
        "          epochs=NUM_EPOCHS,\n",
        "          callbacks=[early_stopping],\n",
        "          validation_data=(validation_inputs, validation_targets),\n",
        "          verbose=1)"
      ],
      "metadata": {
        "colab": {
          "base_uri": "https://localhost:8080/"
        },
        "id": "P56ou_CM-_U3",
        "outputId": "02daadb5-b7dc-4df0-b18d-c88a28143f22"
      },
      "execution_count": 166,
      "outputs": [
        {
          "output_type": "stream",
          "name": "stdout",
          "text": [
            "Epoch 1/30\n",
            "\u001b[1m540/540\u001b[0m \u001b[32m━━━━━━━━━━━━━━━━━━━━\u001b[0m\u001b[37m\u001b[0m \u001b[1m10s\u001b[0m 16ms/step - accuracy: 0.8012 - loss: 0.7262 - val_accuracy: 0.9282 - val_loss: 0.2482\n",
            "Epoch 2/30\n",
            "\u001b[1m540/540\u001b[0m \u001b[32m━━━━━━━━━━━━━━━━━━━━\u001b[0m\u001b[37m\u001b[0m \u001b[1m5s\u001b[0m 8ms/step - accuracy: 0.9363 - loss: 0.2242 - val_accuracy: 0.9438 - val_loss: 0.1896\n",
            "Epoch 3/30\n",
            "\u001b[1m540/540\u001b[0m \u001b[32m━━━━━━━━━━━━━━━━━━━━\u001b[0m\u001b[37m\u001b[0m \u001b[1m6s\u001b[0m 10ms/step - accuracy: 0.9502 - loss: 0.1736 - val_accuracy: 0.9510 - val_loss: 0.1590\n",
            "Epoch 4/30\n",
            "\u001b[1m540/540\u001b[0m \u001b[32m━━━━━━━━━━━━━━━━━━━━\u001b[0m\u001b[37m\u001b[0m \u001b[1m4s\u001b[0m 7ms/step - accuracy: 0.9592 - loss: 0.1431 - val_accuracy: 0.9583 - val_loss: 0.1445\n",
            "Epoch 5/30\n",
            "\u001b[1m540/540\u001b[0m \u001b[32m━━━━━━━━━━━━━━━━━━━━\u001b[0m\u001b[37m\u001b[0m \u001b[1m4s\u001b[0m 8ms/step - accuracy: 0.9653 - loss: 0.1207 - val_accuracy: 0.9615 - val_loss: 0.1339\n",
            "Epoch 6/30\n",
            "\u001b[1m540/540\u001b[0m \u001b[32m━━━━━━━━━━━━━━━━━━━━\u001b[0m\u001b[37m\u001b[0m \u001b[1m5s\u001b[0m 9ms/step - accuracy: 0.9687 - loss: 0.1067 - val_accuracy: 0.9632 - val_loss: 0.1270\n",
            "Epoch 7/30\n",
            "\u001b[1m540/540\u001b[0m \u001b[32m━━━━━━━━━━━━━━━━━━━━\u001b[0m\u001b[37m\u001b[0m \u001b[1m11s\u001b[0m 10ms/step - accuracy: 0.9718 - loss: 0.0954 - val_accuracy: 0.9653 - val_loss: 0.1217\n",
            "Epoch 8/30\n",
            "\u001b[1m540/540\u001b[0m \u001b[32m━━━━━━━━━━━━━━━━━━━━\u001b[0m\u001b[37m\u001b[0m \u001b[1m4s\u001b[0m 8ms/step - accuracy: 0.9740 - loss: 0.0872 - val_accuracy: 0.9660 - val_loss: 0.1167\n",
            "Epoch 9/30\n",
            "\u001b[1m540/540\u001b[0m \u001b[32m━━━━━━━━━━━━━━━━━━━━\u001b[0m\u001b[37m\u001b[0m \u001b[1m5s\u001b[0m 8ms/step - accuracy: 0.9776 - loss: 0.0787 - val_accuracy: 0.9675 - val_loss: 0.1126\n",
            "Epoch 10/30\n",
            "\u001b[1m540/540\u001b[0m \u001b[32m━━━━━━━━━━━━━━━━━━━━\u001b[0m\u001b[37m\u001b[0m \u001b[1m6s\u001b[0m 8ms/step - accuracy: 0.9801 - loss: 0.0704 - val_accuracy: 0.9682 - val_loss: 0.1126\n",
            "Epoch 11/30\n",
            "\u001b[1m540/540\u001b[0m \u001b[32m━━━━━━━━━━━━━━━━━━━━\u001b[0m\u001b[37m\u001b[0m \u001b[1m4s\u001b[0m 7ms/step - accuracy: 0.9803 - loss: 0.0665 - val_accuracy: 0.9670 - val_loss: 0.1119\n",
            "Epoch 12/30\n",
            "\u001b[1m540/540\u001b[0m \u001b[32m━━━━━━━━━━━━━━━━━━━━\u001b[0m\u001b[37m\u001b[0m \u001b[1m7s\u001b[0m 10ms/step - accuracy: 0.9829 - loss: 0.0609 - val_accuracy: 0.9682 - val_loss: 0.1071\n",
            "Epoch 13/30\n",
            "\u001b[1m540/540\u001b[0m \u001b[32m━━━━━━━━━━━━━━━━━━━━\u001b[0m\u001b[37m\u001b[0m \u001b[1m5s\u001b[0m 8ms/step - accuracy: 0.9836 - loss: 0.0556 - val_accuracy: 0.9672 - val_loss: 0.1099\n",
            "Epoch 14/30\n",
            "\u001b[1m540/540\u001b[0m \u001b[32m━━━━━━━━━━━━━━━━━━━━\u001b[0m\u001b[37m\u001b[0m \u001b[1m4s\u001b[0m 7ms/step - accuracy: 0.9857 - loss: 0.0505 - val_accuracy: 0.9685 - val_loss: 0.1067\n",
            "Epoch 15/30\n",
            "\u001b[1m540/540\u001b[0m \u001b[32m━━━━━━━━━━━━━━━━━━━━\u001b[0m\u001b[37m\u001b[0m \u001b[1m5s\u001b[0m 9ms/step - accuracy: 0.9868 - loss: 0.0485 - val_accuracy: 0.9690 - val_loss: 0.1044\n",
            "Epoch 16/30\n",
            "\u001b[1m540/540\u001b[0m \u001b[32m━━━━━━━━━━━━━━━━━━━━\u001b[0m\u001b[37m\u001b[0m \u001b[1m4s\u001b[0m 7ms/step - accuracy: 0.9880 - loss: 0.0434 - val_accuracy: 0.9690 - val_loss: 0.1071\n",
            "Epoch 17/30\n",
            "\u001b[1m540/540\u001b[0m \u001b[32m━━━━━━━━━━━━━━━━━━━━\u001b[0m\u001b[37m\u001b[0m \u001b[1m5s\u001b[0m 9ms/step - accuracy: 0.9886 - loss: 0.0418 - val_accuracy: 0.9692 - val_loss: 0.1064\n"
          ]
        },
        {
          "output_type": "execute_result",
          "data": {
            "text/plain": [
              "<keras.src.callbacks.history.History at 0x7fdcbcfc4690>"
            ]
          },
          "metadata": {},
          "execution_count": 166
        }
      ]
    },
    {
      "cell_type": "code",
      "source": [
        "test_loss, test_accuracy = model.evaluate(test_data)\n",
        "print('Test loss: {0:.2f}. Test accuracy: {1:.2f}%'.format(test_loss, test_accuracy*100.))"
      ],
      "metadata": {
        "colab": {
          "base_uri": "https://localhost:8080/"
        },
        "id": "c3iWffhF_xzH",
        "outputId": "e4a06b8f-f0d0-41b0-b3b0-45b53f0d44cb"
      },
      "execution_count": 167,
      "outputs": [
        {
          "output_type": "stream",
          "name": "stdout",
          "text": [
            "\u001b[1m1/1\u001b[0m \u001b[32m━━━━━━━━━━━━━━━━━━━━\u001b[0m\u001b[37m\u001b[0m \u001b[1m1s\u001b[0m 1s/step - accuracy: 0.9705 - loss: 0.1007\n",
            "Test loss: 0.10. Test accuracy: 97.05%\n"
          ]
        }
      ]
    },
    {
      "cell_type": "code",
      "source": [
        "import cv2\n",
        "import numpy as np\n",
        "import matplotlib.pyplot as plt\n",
        "\n",
        "# Wczytaj obraz z OpenCV\n",
        "img = cv2.imread('28cyfra5.png', cv2.IMREAD_GRAYSCALE)\n",
        "\n",
        "# Zmień rozmiar do 28x28 (jak w MNIST)\n",
        "img_resized = cv2.resize(img, (28, 28))\n",
        "\n",
        "# Normalizacja do zakresu [0,1]\n",
        "img_normalized = img_resized / 255.0\n",
        "\n",
        "# Dodaj wymiar batcha i kanału (model oczekuje 4D wejścia)\n",
        "input_image = np.expand_dims(img_normalized, axis=0)  # (1, 28, 28)\n",
        "input_image = np.expand_dims(input_image, axis=-1)    # (1, 28, 28, 1)\n",
        "\n",
        "# Predykcja\n",
        "prediction = model.predict(input_image)\n",
        "predicted_label = np.argmax(prediction)\n",
        "\n",
        "# Pokaż oryginalny i przetworzony obraz\n",
        "plt.figure(figsize=(8, 4))\n",
        "\n",
        "plt.subplot(1, 2, 1)\n",
        "plt.imshow(img, cmap='gray')\n",
        "plt.title('Oryginalny obraz')\n",
        "plt.axis('off')\n",
        "\n",
        "plt.subplot(1, 2, 2)\n",
        "plt.imshow(img_normalized, cmap='gray')\n",
        "plt.title('Po przetworzeniu')\n",
        "plt.axis('off')\n",
        "\n",
        "plt.tight_layout()\n",
        "plt.show()\n",
        "\n",
        "print(\"Model przewidział cyfrę:\", predicted_label)\n"
      ],
      "metadata": {
        "colab": {
          "base_uri": "https://localhost:8080/",
          "height": 455
        },
        "id": "dVsGymcABC73",
        "outputId": "a34dcdfb-82bf-4bea-db95-ea508d00042d"
      },
      "execution_count": 176,
      "outputs": [
        {
          "output_type": "stream",
          "name": "stdout",
          "text": [
            "\u001b[1m1/1\u001b[0m \u001b[32m━━━━━━━━━━━━━━━━━━━━\u001b[0m\u001b[37m\u001b[0m \u001b[1m0s\u001b[0m 63ms/step\n"
          ]
        },
        {
          "output_type": "display_data",
          "data": {
            "text/plain": [
              "<Figure size 800x400 with 2 Axes>"
            ],
            "image/png": "[encoded data removed]"
          },
          "metadata": {}
        },
        {
          "output_type": "stream",
          "name": "stdout",
          "text": [
            "Model przewidział cyfrę: 5\n"
          ]
        }
      ]
    }
  ]
}